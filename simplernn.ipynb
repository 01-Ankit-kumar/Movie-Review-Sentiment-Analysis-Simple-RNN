{
 "cells": [
  {
   "cell_type": "markdown",
   "id": "262f5e74",
   "metadata": {},
   "source": [
    "## end to end Depp Learning Project Using Simple RNN"
   ]
  },
  {
   "cell_type": "code",
   "execution_count": null,
   "id": "9f66d8e9",
   "metadata": {},
   "outputs": [],
   "source": [
    "import numpy as np\n",
    "import tensorflow as tf\n",
    "from tensorflow.keras.datasets import imdb\n",
    "from tensorflow.keras.preprocessing import sequence\n",
    "from tensorflow.keras.models import Sequential\n",
    "from tensorflow.keras.layers import Embedding,SimpleRNN,Dense"
   ]
  },
  {
   "cell_type": "code",
   "execution_count": null,
   "id": "16d29860",
   "metadata": {},
   "outputs": [],
   "source": [
    "## load the imdb dataset\n",
    "\n",
    "max_features = 10000\n",
    "(X_train,y_train),(X_test,y_test) = imdb.load_data(num_words=max_features)\n",
    "\n",
    "print(X_train.shape,y_train.shape)\n",
    "print(X_test.shape,y_test.shape)"
   ]
  },
  {
   "cell_type": "code",
   "execution_count": null,
   "id": "63fedf8e",
   "metadata": {},
   "outputs": [],
   "source": [
    "X_train[0] #--> this gives a one_hot representation of sentence each word's index out of 10000"
   ]
  },
  {
   "cell_type": "code",
   "execution_count": null,
   "id": "4366ab37",
   "metadata": {},
   "outputs": [],
   "source": [
    "## inspect the sample reviewa and its label\n",
    "sample_review = X_train[0]\n",
    "sample_label = y_train[0]\n",
    "sample_review,sample_label\n",
    "print(f\"sample_review(as integers):{sample_review}\")\n",
    "print(f\"sample_label:{sample_label}\")"
   ]
  },
  {
   "cell_type": "code",
   "execution_count": null,
   "id": "2d58418f",
   "metadata": {},
   "outputs": [],
   "source": [
    "## mapping of words index back to words(for understanding)\n",
    "word_index = imdb.get_word_index()\n",
    "word_index\n"
   ]
  },
  {
   "cell_type": "code",
   "execution_count": null,
   "id": "4b41be87",
   "metadata": {},
   "outputs": [],
   "source": [
    "## reverse dictionary\n",
    "reverse_word_index = {value:key for key,value in word_index.items()}\n",
    "reverse_word_index"
   ]
  },
  {
   "cell_type": "code",
   "execution_count": null,
   "id": "e637337d",
   "metadata": {},
   "outputs": [],
   "source": [
    "decoded_review = ' '.join([reverse_word_index.get(i-3,'?') for i in sample_review])\n",
    "\n",
    "decoded_review \n"
   ]
  },
  {
   "cell_type": "code",
   "execution_count": null,
   "id": "209cd79f",
   "metadata": {},
   "outputs": [],
   "source": [
    "max_len = 500\n",
    "X_train = sequence.pad_sequences(X_train,maxlen=max_len)\n",
    "X_test = sequence.pad_sequences(X_test,maxlen=max_len)"
   ]
  },
  {
   "cell_type": "code",
   "execution_count": null,
   "id": "546d13fa",
   "metadata": {},
   "outputs": [],
   "source": [
    "X_train[0]"
   ]
  },
  {
   "cell_type": "code",
   "execution_count": null,
   "id": "af91bf45",
   "metadata": {},
   "outputs": [],
   "source": [
    "model = Sequential()\n",
    "model.add(Embedding(input_dim=max_features, output_dim=128, input_shape=(max_len,)))  # Set input_shape\n",
    "model.add(SimpleRNN(128, activation='relu'))\n",
    "model.add(Dense(1, activation='sigmoid'))\n",
    "\n",
    "model.summary()\n"
   ]
  },
  {
   "cell_type": "code",
   "execution_count": null,
   "id": "683ed1ea",
   "metadata": {},
   "outputs": [],
   "source": [
    "# create instance os early stopping callbacks\n",
    "from tensorflow.keras.callbacks import EarlyStopping\n",
    "early_stopping=EarlyStopping(monitor='val_loss',patience = 5,restore_best_weights = True)\n",
    "early_stopping"
   ]
  },
  {
   "cell_type": "code",
   "execution_count": null,
   "id": "d2908198",
   "metadata": {},
   "outputs": [],
   "source": [
    "model.compile(optimizer='adam',loss='binary_crossentropy',metrics=['accuracy'])"
   ]
  },
  {
   "cell_type": "markdown",
   "id": "a7c50ce1",
   "metadata": {},
   "source": [
    "an epoch refers to one complete pass through the entire training dataset. During each epoch, the model processes all training samples, adjusts its weights, and learns patterns.\n",
    "\n",
    "Why are epochs important?\n",
    "Too few epochs → The model may not learn enough, leading to underfitting.\n",
    "\n",
    "Too many epochs → The model may memorize the training data, causing overfitting.\n",
    "\n",
    "Optimal epochs → Typically determined using validation loss or early stopping.\n",
    "\n",
    "Epochs vs. Iterations vs. Batches\n",
    "Batch: A subset of training samples processed at once.\n",
    "\n",
    "Iteration: One update of model parameters (one batch processed).\n",
    "\n",
    "Epoch: One full cycle through the dataset."
   ]
  },
  {
   "cell_type": "markdown",
   "id": "4b38654e",
   "metadata": {},
   "source": [
    "### batch_size\n",
    "it refers to the number of training samples processed before the model updates its weights"
   ]
  },
  {
   "cell_type": "markdown",
   "id": "d12e1170",
   "metadata": {},
   "source": [
    "validation_split=0.2 reserves 20% of the training data for validation. This validation data is not used for training, but helps assess the model’s performance after each epoch"
   ]
  },
  {
   "cell_type": "code",
   "execution_count": null,
   "id": "aad291dd",
   "metadata": {},
   "outputs": [],
   "source": [
    "# train the modek with early stopping\n",
    "\n",
    "model.fit(\n",
    "            X_train,y_train,epochs=10,batch_size=32,\n",
    "          validation_split = 0.2,\n",
    "          callbacks = [early_stopping]\n",
    "          )"
   ]
  },
  {
   "cell_type": "code",
   "execution_count": null,
   "id": "e931c0ef",
   "metadata": {},
   "outputs": [],
   "source": [
    "model.save('SimpleRNN_imdb.h5')"
   ]
  },
  {
   "cell_type": "code",
   "execution_count": null,
   "id": "b5c64337",
   "metadata": {},
   "outputs": [],
   "source": []
  },
  {
   "cell_type": "code",
   "execution_count": null,
   "id": "c05990b0",
   "metadata": {},
   "outputs": [],
   "source": []
  },
  {
   "cell_type": "code",
   "execution_count": null,
   "id": "69e6a5f8",
   "metadata": {},
   "outputs": [],
   "source": []
  }
 ],
 "metadata": {
  "kernelspec": {
   "display_name": "rnnenv",
   "language": "python",
   "name": "python3"
  },
  "language_info": {
   "codemirror_mode": {
    "name": "ipython",
    "version": 3
   },
   "file_extension": ".py",
   "mimetype": "text/x-python",
   "name": "python",
   "nbconvert_exporter": "python",
   "pygments_lexer": "ipython3",
   "version": "3.9.21"
  }
 },
 "nbformat": 4,
 "nbformat_minor": 5
}
