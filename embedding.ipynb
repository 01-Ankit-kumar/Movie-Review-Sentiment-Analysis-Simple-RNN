{
 "cells": [
  {
   "cell_type": "code",
   "execution_count": 1,
   "id": "542cc841",
   "metadata": {},
   "outputs": [],
   "source": [
    "from tensorflow.keras.preprocessing.text import one_hot"
   ]
  },
  {
   "cell_type": "code",
   "execution_count": 2,
   "id": "06394d9b",
   "metadata": {},
   "outputs": [],
   "source": [
    "sent_list = [\n",
    "    \"The glass of water\",\n",
    "    \"The glass of milk\",\n",
    "    \"A Cup of tea\",\n",
    "    \"I am a singer\",\n",
    "    \"I am a cricketer\"\n",
    "    \"The shop of lemonade\",\n",
    "    \"The bottle of soda\",\n",
    "]\n"
   ]
  },
  {
   "cell_type": "code",
   "execution_count": 3,
   "id": "ff4e0362",
   "metadata": {},
   "outputs": [
    {
     "data": {
      "text/plain": [
       "['The glass of water',\n",
       " 'The glass of milk',\n",
       " 'A Cup of tea',\n",
       " 'I am a singer',\n",
       " 'I am a cricketerThe shop of lemonade',\n",
       " 'The bottle of soda']"
      ]
     },
     "execution_count": 3,
     "metadata": {},
     "output_type": "execute_result"
    }
   ],
   "source": [
    "sent_list"
   ]
  },
  {
   "cell_type": "code",
   "execution_count": 4,
   "id": "a2d09e64",
   "metadata": {},
   "outputs": [],
   "source": [
    "vocab_size = 10000\n",
    "\n",
    "## one hot representation \n",
    "one_hot_rep = [one_hot(words,vocab_size) for words in sent_list]"
   ]
  },
  {
   "cell_type": "code",
   "execution_count": 5,
   "id": "ef8b6ae4",
   "metadata": {},
   "outputs": [
    {
     "data": {
      "text/plain": [
       "['The glass of water',\n",
       " 'The glass of milk',\n",
       " 'A Cup of tea',\n",
       " 'I am a singer',\n",
       " 'I am a cricketerThe shop of lemonade',\n",
       " 'The bottle of soda']"
      ]
     },
     "execution_count": 5,
     "metadata": {},
     "output_type": "execute_result"
    }
   ],
   "source": [
    "sent_list"
   ]
  },
  {
   "cell_type": "code",
   "execution_count": 6,
   "id": "988e1792",
   "metadata": {},
   "outputs": [
    {
     "data": {
      "text/plain": [
       "[[3889, 7044, 4589, 3557],\n",
       " [3889, 7044, 4589, 5118],\n",
       " [8551, 1785, 4589, 1611],\n",
       " [5378, 4891, 8551, 1389],\n",
       " [5378, 4891, 8551, 1011, 7524, 4589, 2987],\n",
       " [3889, 8086, 4589, 6337]]"
      ]
     },
     "execution_count": 6,
     "metadata": {},
     "output_type": "execute_result"
    }
   ],
   "source": [
    "one_hot_rep"
   ]
  },
  {
   "cell_type": "markdown",
   "id": "2cc0711e",
   "metadata": {},
   "source": [
    "### pad_sequnece \n",
    "is used because of variable sentence length \n",
    "--> it gives a sentence max len\n",
    "--> neccescary bcoz each sentences can be given for a fixed numbver of timestamps"
   ]
  },
  {
   "cell_type": "code",
   "execution_count": 7,
   "id": "3b3669d7",
   "metadata": {},
   "outputs": [],
   "source": [
    "from tensorflow.keras.layers import Embedding\n",
    "from tensorflow.keras.utils import pad_sequences \n",
    "\n",
    "from tensorflow.keras.models import Sequential"
   ]
  },
  {
   "cell_type": "code",
   "execution_count": 8,
   "id": "0ef35b07",
   "metadata": {},
   "outputs": [],
   "source": [
    "import numpy as np\n",
    "\n"
   ]
  },
  {
   "cell_type": "code",
   "execution_count": 9,
   "id": "7d7be3ad",
   "metadata": {},
   "outputs": [
    {
     "data": {
      "text/plain": [
       "array([[   0,    0,    0,    0, 3889, 7044, 4589, 3557],\n",
       "       [   0,    0,    0,    0, 3889, 7044, 4589, 5118],\n",
       "       [   0,    0,    0,    0, 8551, 1785, 4589, 1611],\n",
       "       [   0,    0,    0,    0, 5378, 4891, 8551, 1389],\n",
       "       [   0, 5378, 4891, 8551, 1011, 7524, 4589, 2987],\n",
       "       [   0,    0,    0,    0, 3889, 8086, 4589, 6337]], dtype=int32)"
      ]
     },
     "execution_count": 9,
     "metadata": {},
     "output_type": "execute_result"
    }
   ],
   "source": [
    "sent_length = 8\n",
    "embedded_docs = pad_sequences(one_hot_rep,padding='pre',maxlen=sent_length) ## padding -->pre or post\n",
    "embedded_docs"
   ]
  },
  {
   "cell_type": "code",
   "execution_count": 10,
   "id": "9997b5d8",
   "metadata": {},
   "outputs": [],
   "source": [
    "dim = 10\n"
   ]
  },
  {
   "cell_type": "code",
   "execution_count": 13,
   "id": "b250a49b",
   "metadata": {},
   "outputs": [],
   "source": [
    "model = Sequential()\n",
    "model.add(Embedding(vocab_size,dim))\n",
    "model.compile('adam','mse')"
   ]
  },
  {
   "cell_type": "code",
   "execution_count": 14,
   "id": "38ee15b9",
   "metadata": {},
   "outputs": [
    {
     "data": {
      "text/html": [
       "<pre style=\"white-space:pre;overflow-x:auto;line-height:normal;font-family:Menlo,'DejaVu Sans Mono',consolas,'Courier New',monospace\"><span style=\"font-weight: bold\">Model: \"sequential_1\"</span>\n",
       "</pre>\n"
      ],
      "text/plain": [
       "\u001b[1mModel: \"sequential_1\"\u001b[0m\n"
      ]
     },
     "metadata": {},
     "output_type": "display_data"
    },
    {
     "data": {
      "text/html": [
       "<pre style=\"white-space:pre;overflow-x:auto;line-height:normal;font-family:Menlo,'DejaVu Sans Mono',consolas,'Courier New',monospace\">┏━━━━━━━━━━━━━━━━━━━━━━━━━━━━━━━━━┳━━━━━━━━━━━━━━━━━━━━━━━━┳━━━━━━━━━━━━━━━┓\n",
       "┃<span style=\"font-weight: bold\"> Layer (type)                    </span>┃<span style=\"font-weight: bold\"> Output Shape           </span>┃<span style=\"font-weight: bold\">       Param # </span>┃\n",
       "┡━━━━━━━━━━━━━━━━━━━━━━━━━━━━━━━━━╇━━━━━━━━━━━━━━━━━━━━━━━━╇━━━━━━━━━━━━━━━┩\n",
       "│ embedding_1 (<span style=\"color: #0087ff; text-decoration-color: #0087ff\">Embedding</span>)         │ ?                      │   <span style=\"color: #00af00; text-decoration-color: #00af00\">0</span> (unbuilt) │\n",
       "└─────────────────────────────────┴────────────────────────┴───────────────┘\n",
       "</pre>\n"
      ],
      "text/plain": [
       "┏━━━━━━━━━━━━━━━━━━━━━━━━━━━━━━━━━┳━━━━━━━━━━━━━━━━━━━━━━━━┳━━━━━━━━━━━━━━━┓\n",
       "┃\u001b[1m \u001b[0m\u001b[1mLayer (type)                   \u001b[0m\u001b[1m \u001b[0m┃\u001b[1m \u001b[0m\u001b[1mOutput Shape          \u001b[0m\u001b[1m \u001b[0m┃\u001b[1m \u001b[0m\u001b[1m      Param #\u001b[0m\u001b[1m \u001b[0m┃\n",
       "┡━━━━━━━━━━━━━━━━━━━━━━━━━━━━━━━━━╇━━━━━━━━━━━━━━━━━━━━━━━━╇━━━━━━━━━━━━━━━┩\n",
       "│ embedding_1 (\u001b[38;5;33mEmbedding\u001b[0m)         │ ?                      │   \u001b[38;5;34m0\u001b[0m (unbuilt) │\n",
       "└─────────────────────────────────┴────────────────────────┴───────────────┘\n"
      ]
     },
     "metadata": {},
     "output_type": "display_data"
    },
    {
     "data": {
      "text/html": [
       "<pre style=\"white-space:pre;overflow-x:auto;line-height:normal;font-family:Menlo,'DejaVu Sans Mono',consolas,'Courier New',monospace\"><span style=\"font-weight: bold\"> Total params: </span><span style=\"color: #00af00; text-decoration-color: #00af00\">0</span> (0.00 B)\n",
       "</pre>\n"
      ],
      "text/plain": [
       "\u001b[1m Total params: \u001b[0m\u001b[38;5;34m0\u001b[0m (0.00 B)\n"
      ]
     },
     "metadata": {},
     "output_type": "display_data"
    },
    {
     "data": {
      "text/html": [
       "<pre style=\"white-space:pre;overflow-x:auto;line-height:normal;font-family:Menlo,'DejaVu Sans Mono',consolas,'Courier New',monospace\"><span style=\"font-weight: bold\"> Trainable params: </span><span style=\"color: #00af00; text-decoration-color: #00af00\">0</span> (0.00 B)\n",
       "</pre>\n"
      ],
      "text/plain": [
       "\u001b[1m Trainable params: \u001b[0m\u001b[38;5;34m0\u001b[0m (0.00 B)\n"
      ]
     },
     "metadata": {},
     "output_type": "display_data"
    },
    {
     "data": {
      "text/html": [
       "<pre style=\"white-space:pre;overflow-x:auto;line-height:normal;font-family:Menlo,'DejaVu Sans Mono',consolas,'Courier New',monospace\"><span style=\"font-weight: bold\"> Non-trainable params: </span><span style=\"color: #00af00; text-decoration-color: #00af00\">0</span> (0.00 B)\n",
       "</pre>\n"
      ],
      "text/plain": [
       "\u001b[1m Non-trainable params: \u001b[0m\u001b[38;5;34m0\u001b[0m (0.00 B)\n"
      ]
     },
     "metadata": {},
     "output_type": "display_data"
    }
   ],
   "source": [
    "model.summary()"
   ]
  },
  {
   "cell_type": "code",
   "execution_count": 15,
   "id": "a712c2d0",
   "metadata": {},
   "outputs": [
    {
     "name": "stdout",
     "output_type": "stream",
     "text": [
      "\u001b[1m1/1\u001b[0m \u001b[32m━━━━━━━━━━━━━━━━━━━━\u001b[0m\u001b[37m\u001b[0m \u001b[1m0s\u001b[0m 381ms/step\n"
     ]
    },
    {
     "data": {
      "text/plain": [
       "array([[[-0.04739429, -0.03670076,  0.04184662,  0.03530459,\n",
       "         -0.03651654,  0.00939826,  0.02854374,  0.00886314,\n",
       "         -0.01908387,  0.0286946 ],\n",
       "        [-0.04739429, -0.03670076,  0.04184662,  0.03530459,\n",
       "         -0.03651654,  0.00939826,  0.02854374,  0.00886314,\n",
       "         -0.01908387,  0.0286946 ],\n",
       "        [-0.04739429, -0.03670076,  0.04184662,  0.03530459,\n",
       "         -0.03651654,  0.00939826,  0.02854374,  0.00886314,\n",
       "         -0.01908387,  0.0286946 ],\n",
       "        [-0.04739429, -0.03670076,  0.04184662,  0.03530459,\n",
       "         -0.03651654,  0.00939826,  0.02854374,  0.00886314,\n",
       "         -0.01908387,  0.0286946 ],\n",
       "        [ 0.02547673, -0.03689239, -0.04999806,  0.04283876,\n",
       "          0.02537611,  0.00168059,  0.01677538, -0.02828532,\n",
       "          0.04656662, -0.01057844],\n",
       "        [ 0.039543  ,  0.00755512, -0.02061744,  0.01518483,\n",
       "         -0.02664888, -0.03612598, -0.00324581,  0.03419873,\n",
       "         -0.02051583,  0.01730341],\n",
       "        [-0.03360862,  0.01307026, -0.04699732, -0.00624845,\n",
       "         -0.017     , -0.02266935, -0.03550084, -0.04592906,\n",
       "         -0.02118872,  0.0187593 ],\n",
       "        [ 0.04769964,  0.03312752,  0.04173576, -0.04501377,\n",
       "         -0.03418632,  0.02841162, -0.03006444,  0.02601841,\n",
       "         -0.01029138,  0.00797201]],\n",
       "\n",
       "       [[-0.04739429, -0.03670076,  0.04184662,  0.03530459,\n",
       "         -0.03651654,  0.00939826,  0.02854374,  0.00886314,\n",
       "         -0.01908387,  0.0286946 ],\n",
       "        [-0.04739429, -0.03670076,  0.04184662,  0.03530459,\n",
       "         -0.03651654,  0.00939826,  0.02854374,  0.00886314,\n",
       "         -0.01908387,  0.0286946 ],\n",
       "        [-0.04739429, -0.03670076,  0.04184662,  0.03530459,\n",
       "         -0.03651654,  0.00939826,  0.02854374,  0.00886314,\n",
       "         -0.01908387,  0.0286946 ],\n",
       "        [-0.04739429, -0.03670076,  0.04184662,  0.03530459,\n",
       "         -0.03651654,  0.00939826,  0.02854374,  0.00886314,\n",
       "         -0.01908387,  0.0286946 ],\n",
       "        [ 0.02547673, -0.03689239, -0.04999806,  0.04283876,\n",
       "          0.02537611,  0.00168059,  0.01677538, -0.02828532,\n",
       "          0.04656662, -0.01057844],\n",
       "        [ 0.039543  ,  0.00755512, -0.02061744,  0.01518483,\n",
       "         -0.02664888, -0.03612598, -0.00324581,  0.03419873,\n",
       "         -0.02051583,  0.01730341],\n",
       "        [-0.03360862,  0.01307026, -0.04699732, -0.00624845,\n",
       "         -0.017     , -0.02266935, -0.03550084, -0.04592906,\n",
       "         -0.02118872,  0.0187593 ],\n",
       "        [ 0.04140463,  0.04130128,  0.03024084,  0.0327225 ,\n",
       "          0.04639777, -0.00245799, -0.03062577, -0.01229585,\n",
       "         -0.02604249, -0.04076835]],\n",
       "\n",
       "       [[-0.04739429, -0.03670076,  0.04184662,  0.03530459,\n",
       "         -0.03651654,  0.00939826,  0.02854374,  0.00886314,\n",
       "         -0.01908387,  0.0286946 ],\n",
       "        [-0.04739429, -0.03670076,  0.04184662,  0.03530459,\n",
       "         -0.03651654,  0.00939826,  0.02854374,  0.00886314,\n",
       "         -0.01908387,  0.0286946 ],\n",
       "        [-0.04739429, -0.03670076,  0.04184662,  0.03530459,\n",
       "         -0.03651654,  0.00939826,  0.02854374,  0.00886314,\n",
       "         -0.01908387,  0.0286946 ],\n",
       "        [-0.04739429, -0.03670076,  0.04184662,  0.03530459,\n",
       "         -0.03651654,  0.00939826,  0.02854374,  0.00886314,\n",
       "         -0.01908387,  0.0286946 ],\n",
       "        [ 0.0183162 , -0.03550061, -0.01460363, -0.0056328 ,\n",
       "          0.02830095,  0.04977891,  0.01449287, -0.01243951,\n",
       "         -0.04818523, -0.00352031],\n",
       "        [-0.0458848 ,  0.0329986 , -0.02777282, -0.02371074,\n",
       "          0.02890999,  0.00830453, -0.03451373, -0.00103747,\n",
       "          0.02713472,  0.00908791],\n",
       "        [-0.03360862,  0.01307026, -0.04699732, -0.00624845,\n",
       "         -0.017     , -0.02266935, -0.03550084, -0.04592906,\n",
       "         -0.02118872,  0.0187593 ],\n",
       "        [ 0.04661329, -0.0455277 , -0.03484444,  0.03917595,\n",
       "         -0.03823911, -0.04288128,  0.022048  ,  0.00242696,\n",
       "         -0.02318659,  0.02606846]],\n",
       "\n",
       "       [[-0.04739429, -0.03670076,  0.04184662,  0.03530459,\n",
       "         -0.03651654,  0.00939826,  0.02854374,  0.00886314,\n",
       "         -0.01908387,  0.0286946 ],\n",
       "        [-0.04739429, -0.03670076,  0.04184662,  0.03530459,\n",
       "         -0.03651654,  0.00939826,  0.02854374,  0.00886314,\n",
       "         -0.01908387,  0.0286946 ],\n",
       "        [-0.04739429, -0.03670076,  0.04184662,  0.03530459,\n",
       "         -0.03651654,  0.00939826,  0.02854374,  0.00886314,\n",
       "         -0.01908387,  0.0286946 ],\n",
       "        [-0.04739429, -0.03670076,  0.04184662,  0.03530459,\n",
       "         -0.03651654,  0.00939826,  0.02854374,  0.00886314,\n",
       "         -0.01908387,  0.0286946 ],\n",
       "        [ 0.00197153, -0.00946122,  0.00665265,  0.03636068,\n",
       "         -0.03773956,  0.01569481, -0.0049436 ,  0.02692788,\n",
       "         -0.0091176 , -0.01503884],\n",
       "        [ 0.03969629, -0.03667458,  0.03335767,  0.01719639,\n",
       "         -0.04876664,  0.04139734,  0.00898906, -0.00967153,\n",
       "          0.0374269 ,  0.01878408],\n",
       "        [ 0.0183162 , -0.03550061, -0.01460363, -0.0056328 ,\n",
       "          0.02830095,  0.04977891,  0.01449287, -0.01243951,\n",
       "         -0.04818523, -0.00352031],\n",
       "        [-0.02650332,  0.03437102,  0.04409694,  0.03036931,\n",
       "          0.03582337, -0.02407036,  0.03614223,  0.00212947,\n",
       "         -0.03252035, -0.03991213]],\n",
       "\n",
       "       [[-0.04739429, -0.03670076,  0.04184662,  0.03530459,\n",
       "         -0.03651654,  0.00939826,  0.02854374,  0.00886314,\n",
       "         -0.01908387,  0.0286946 ],\n",
       "        [ 0.00197153, -0.00946122,  0.00665265,  0.03636068,\n",
       "         -0.03773956,  0.01569481, -0.0049436 ,  0.02692788,\n",
       "         -0.0091176 , -0.01503884],\n",
       "        [ 0.03969629, -0.03667458,  0.03335767,  0.01719639,\n",
       "         -0.04876664,  0.04139734,  0.00898906, -0.00967153,\n",
       "          0.0374269 ,  0.01878408],\n",
       "        [ 0.0183162 , -0.03550061, -0.01460363, -0.0056328 ,\n",
       "          0.02830095,  0.04977891,  0.01449287, -0.01243951,\n",
       "         -0.04818523, -0.00352031],\n",
       "        [-0.03631302, -0.01271024,  0.01413215,  0.01541258,\n",
       "         -0.01703741,  0.02413793,  0.04417739, -0.01595279,\n",
       "          0.04884327, -0.02160029],\n",
       "        [-0.03163724,  0.0280252 , -0.0144235 , -0.00517106,\n",
       "          0.03500159, -0.01538613,  0.02112819,  0.02474285,\n",
       "          0.00418102,  0.02703941],\n",
       "        [-0.03360862,  0.01307026, -0.04699732, -0.00624845,\n",
       "         -0.017     , -0.02266935, -0.03550084, -0.04592906,\n",
       "         -0.02118872,  0.0187593 ],\n",
       "        [ 0.00612998, -0.04648285,  0.03480823, -0.01619672,\n",
       "         -0.0295622 ,  0.02053194, -0.02927288,  0.04462821,\n",
       "         -0.020407  ,  0.02948305]],\n",
       "\n",
       "       [[-0.04739429, -0.03670076,  0.04184662,  0.03530459,\n",
       "         -0.03651654,  0.00939826,  0.02854374,  0.00886314,\n",
       "         -0.01908387,  0.0286946 ],\n",
       "        [-0.04739429, -0.03670076,  0.04184662,  0.03530459,\n",
       "         -0.03651654,  0.00939826,  0.02854374,  0.00886314,\n",
       "         -0.01908387,  0.0286946 ],\n",
       "        [-0.04739429, -0.03670076,  0.04184662,  0.03530459,\n",
       "         -0.03651654,  0.00939826,  0.02854374,  0.00886314,\n",
       "         -0.01908387,  0.0286946 ],\n",
       "        [-0.04739429, -0.03670076,  0.04184662,  0.03530459,\n",
       "         -0.03651654,  0.00939826,  0.02854374,  0.00886314,\n",
       "         -0.01908387,  0.0286946 ],\n",
       "        [ 0.02547673, -0.03689239, -0.04999806,  0.04283876,\n",
       "          0.02537611,  0.00168059,  0.01677538, -0.02828532,\n",
       "          0.04656662, -0.01057844],\n",
       "        [-0.02287762, -0.04061935,  0.03697607,  0.00695654,\n",
       "         -0.0483675 , -0.02556795, -0.02831118, -0.00422207,\n",
       "         -0.01446749,  0.04797255],\n",
       "        [-0.03360862,  0.01307026, -0.04699732, -0.00624845,\n",
       "         -0.017     , -0.02266935, -0.03550084, -0.04592906,\n",
       "         -0.02118872,  0.0187593 ],\n",
       "        [ 0.02159757,  0.00204647, -0.01366508,  0.04121418,\n",
       "         -0.0001725 , -0.00205197,  0.033496  , -0.01831261,\n",
       "          0.03304425, -0.01955514]]], dtype=float32)"
      ]
     },
     "execution_count": 15,
     "metadata": {},
     "output_type": "execute_result"
    }
   ],
   "source": [
    "model.predict(embedded_docs)"
   ]
  },
  {
   "cell_type": "code",
   "execution_count": null,
   "id": "05922586",
   "metadata": {},
   "outputs": [],
   "source": []
  }
 ],
 "metadata": {
  "kernelspec": {
   "display_name": "rnnenv",
   "language": "python",
   "name": "python3"
  },
  "language_info": {
   "codemirror_mode": {
    "name": "ipython",
    "version": 3
   },
   "file_extension": ".py",
   "mimetype": "text/x-python",
   "name": "python",
   "nbconvert_exporter": "python",
   "pygments_lexer": "ipython3",
   "version": "3.9.21"
  }
 },
 "nbformat": 4,
 "nbformat_minor": 5
}
